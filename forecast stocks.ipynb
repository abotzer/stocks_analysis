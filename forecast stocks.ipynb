{
 "cells": [
  {
   "cell_type": "markdown",
   "id": "917d6b14-008d-4101-862b-5836af1ac193",
   "metadata": {},
   "source": [
    "# 1. Import Data"
   ]
  },
  {
   "cell_type": "markdown",
   "id": "e30a8f1a-4592-4fe3-9a6b-9a9be517d645",
   "metadata": {},
   "source": [
    "# 2. Build Features"
   ]
  },
  {
   "cell_type": "markdown",
   "id": "a204e9df-0d25-4845-87e2-7405d75a9be1",
   "metadata": {},
   "source": [
    "# 3. Build Dataset"
   ]
  },
  {
   "cell_type": "markdown",
   "id": "7292cc04-8d9b-4a36-98c5-d979f819b7fa",
   "metadata": {},
   "source": [
    "# 4. Train Model"
   ]
  },
  {
   "cell_type": "markdown",
   "id": "71ef2425-28f8-4106-a1fa-f8e88ad652cc",
   "metadata": {},
   "source": [
    "# 5. Evaluate"
   ]
  },
  {
   "cell_type": "markdown",
   "id": "05aedd1d-007a-41a4-8411-57ed41ac45dd",
   "metadata": {},
   "source": [
    "# 6. Predict"
   ]
  },
  {
   "cell_type": "code",
   "execution_count": null,
   "id": "c232f209-320c-4179-ab0a-c3e4a3bdab15",
   "metadata": {},
   "outputs": [],
   "source": []
  }
 ],
 "metadata": {
  "kernelspec": {
   "display_name": "Python 3 (ipykernel)",
   "language": "python",
   "name": "python3"
  },
  "language_info": {
   "codemirror_mode": {
    "name": "ipython",
    "version": 3
   },
   "file_extension": ".py",
   "mimetype": "text/x-python",
   "name": "python",
   "nbconvert_exporter": "python",
   "pygments_lexer": "ipython3",
   "version": "3.9.7"
  }
 },
 "nbformat": 4,
 "nbformat_minor": 5
}
