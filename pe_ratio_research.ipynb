{
 "cells": [
  {
   "cell_type": "code",
   "execution_count": 1,
   "id": "5d252fc4-2cf2-408c-9828-abf1b19b44c5",
   "metadata": {},
   "outputs": [],
   "source": [
    "import sys"
   ]
  },
  {
   "cell_type": "code",
   "execution_count": 2,
   "id": "5fb1ee48-5d55-4aa6-9dba-378307c35ffd",
   "metadata": {},
   "outputs": [],
   "source": [
    "import matplotlib.pyplot as plt\n",
    "import seaborn"
   ]
  },
  {
   "cell_type": "code",
   "execution_count": 3,
   "id": "72c4c56b-e85a-4d4f-83dc-eced02274e9c",
   "metadata": {},
   "outputs": [],
   "source": [
    "import yfinance as yf"
   ]
  },
  {
   "cell_type": "code",
   "execution_count": 4,
   "id": "1431f0ed-f515-442c-9d4f-4413754cc98e",
   "metadata": {},
   "outputs": [
    {
     "name": "stdout",
     "output_type": "stream",
     "text": [
      "Collecting get-all-tickers\n",
      "  Downloading get_all_tickers-1.8.tar.gz (3.4 kB)\n",
      "Requirement already satisfied: pandas in /home/botzer/anaconda3/lib/python3.9/site-packages (from get-all-tickers) (1.3.4)\n",
      "Requirement already satisfied: requests in /home/botzer/anaconda3/lib/python3.9/site-packages (from get-all-tickers) (2.26.0)\n",
      "Requirement already satisfied: python-dateutil>=2.7.3 in /home/botzer/anaconda3/lib/python3.9/site-packages (from pandas->get-all-tickers) (2.8.2)\n",
      "Requirement already satisfied: pytz>=2017.3 in /home/botzer/anaconda3/lib/python3.9/site-packages (from pandas->get-all-tickers) (2021.3)\n",
      "Requirement already satisfied: numpy>=1.17.3 in /home/botzer/anaconda3/lib/python3.9/site-packages (from pandas->get-all-tickers) (1.20.3)\n",
      "Requirement already satisfied: six>=1.5 in /home/botzer/anaconda3/lib/python3.9/site-packages (from python-dateutil>=2.7.3->pandas->get-all-tickers) (1.16.0)\n",
      "Requirement already satisfied: certifi>=2017.4.17 in /home/botzer/anaconda3/lib/python3.9/site-packages (from requests->get-all-tickers) (2021.10.8)\n",
      "Requirement already satisfied: urllib3<1.27,>=1.21.1 in /home/botzer/anaconda3/lib/python3.9/site-packages (from requests->get-all-tickers) (1.26.7)\n",
      "Requirement already satisfied: charset-normalizer~=2.0.0 in /home/botzer/anaconda3/lib/python3.9/site-packages (from requests->get-all-tickers) (2.0.4)\n",
      "Requirement already satisfied: idna<4,>=2.5 in /home/botzer/anaconda3/lib/python3.9/site-packages (from requests->get-all-tickers) (3.2)\n",
      "Building wheels for collected packages: get-all-tickers\n",
      "  Building wheel for get-all-tickers (setup.py) ... \u001b[?25ldone\n",
      "\u001b[?25h  Created wheel for get-all-tickers: filename=get_all_tickers-1.8-py3-none-any.whl size=4247 sha256=6a777d5f003667e6e518d9d2af4d019df63ca4f937e8795d6d67cee262ee5dc7\n",
      "  Stored in directory: /home/botzer/.cache/pip/wheels/a7/6b/3b/08112146addada356ff3d1b1758dc729e5a2ca9ec19cbd8118\n",
      "Successfully built get-all-tickers\n",
      "Installing collected packages: get-all-tickers\n",
      "Successfully installed get-all-tickers-1.8\n"
     ]
    }
   ],
   "source": [
    "!pip install get-all-tickers"
   ]
  },
  {
   "cell_type": "code",
   "execution_count": 5,
   "id": "9406e4c1-0821-40ec-9102-2f85797b2a9f",
   "metadata": {},
   "outputs": [],
   "source": [
    "from get_all_tickers import get_tickers as gt"
   ]
  },
  {
   "cell_type": "code",
   "execution_count": null,
   "id": "9257e09c-a6df-4861-84c4-4e78f06e1888",
   "metadata": {},
   "outputs": [],
   "source": []
  }
 ],
 "metadata": {
  "kernelspec": {
   "display_name": "Python 3 (ipykernel)",
   "language": "python",
   "name": "python3"
  },
  "language_info": {
   "codemirror_mode": {
    "name": "ipython",
    "version": 3
   },
   "file_extension": ".py",
   "mimetype": "text/x-python",
   "name": "python",
   "nbconvert_exporter": "python",
   "pygments_lexer": "ipython3",
   "version": "3.9.7"
  }
 },
 "nbformat": 4,
 "nbformat_minor": 5
}
